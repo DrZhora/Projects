{
  "nbformat": 4,
  "nbformat_minor": 0,
  "metadata": {
    "colab": {
      "provenance": [],
      "gpuType": "T4"
    },
    "kernelspec": {
      "name": "python3",
      "display_name": "Python 3"
    },
    "language_info": {
      "name": "python"
    },
    "accelerator": "GPU"
  },
  "cells": [
    {
      "cell_type": "code",
      "source": [
        "import numpy as np\n",
        "import tensorflow as tf\n",
        "from tensorflow.keras.models import Model\n",
        "from tensorflow.keras.layers import Dense, GlobalAveragePooling2D"
      ],
      "metadata": {
        "id": "bCM2viSMTHmE"
      },
      "execution_count": 1,
      "outputs": []
    },
    {
      "cell_type": "markdown",
      "source": [
        "# Load your data"
      ],
      "metadata": {
        "id": "BTrufy2-NB07"
      }
    },
    {
      "cell_type": "code",
      "source": [
        "X_train = np.loadtxt(\"/content/drive/MyDrive/input.csv\", delimiter=\",\")\n",
        "y_train = np.loadtxt(\"/content/drive/MyDrive/labels.csv\", delimiter=\",\")\n",
        "\n",
        "X_test = np.loadtxt(\"/content/drive/MyDrive/input_test.csv\", delimiter=\",\")\n",
        "y_test = np.loadtxt(\"/content/drive/MyDrive/labels_test.csv\", delimiter=\",\")"
      ],
      "metadata": {
        "id": "GvTQSVbMlMPD"
      },
      "execution_count": 2,
      "outputs": []
    },
    {
      "cell_type": "markdown",
      "source": [
        "# Prepearing the data"
      ],
      "metadata": {
        "id": "5GGNNvIZM-_3"
      }
    },
    {
      "cell_type": "code",
      "source": [
        "X_train = X_train.reshape(len(X_train),100,100,3) / 255.0\n",
        "y_train= y_train.reshape(len(y_train),1)\n",
        "\n",
        "X_test= X_test.reshape(len(X_test),100,100,3) / 255.0\n",
        "y_test= y_test.reshape(len(y_test),1)"
      ],
      "metadata": {
        "id": "52fZVhwVleN0"
      },
      "execution_count": 3,
      "outputs": []
    },
    {
      "cell_type": "markdown",
      "source": [
        "# Load pre-trained model without top layers"
      ],
      "metadata": {
        "id": "kYc3xW2oMSQ0"
      }
    },
    {
      "cell_type": "code",
      "source": [
        "import tensorflow as tf\n",
        "base_model = tf.keras.applications.xception.Xception(weights=\"imagenet\", include_top=False, input_shape=(100,100,3))\n",
        "\n",
        "# from tensorflow.keras.applications import ResNet50\n",
        "# base_model = ResNet50(weights='imagenet', include_top=False, input_shape=(100,100,3))\n",
        "\n",
        "# from tensorflow.keras.applications import VGG16\n",
        "# base_model = VGG16(weights='imagenet', include_top=False, input_shape=(100, 100, 3))\n",
        "\n",
        "# from tensorflow.keras.applications import DenseNet121\n",
        "# base_model = DenseNet121(weights='imagenet', include_top=False, input_shape=(100, 100, 3))\n",
        "\n",
        "# from tensorflow.keras.applications import InceptionV3\n",
        "# base_model = InceptionV3(weights='imagenet', include_top=False, input_shape=(100, 100, 3))\n",
        "\n",
        "# from tensorflow.keras.applications import MobileNetV2\n",
        "# base_model = MobileNetV2(weights='imagenet', include_top=False, input_shape=(100, 100, 3))\n",
        "\n",
        "# from tensorflow.keras.applications import EfficientNetB0\n",
        "# base_model = EfficientNetB0(weights='imagenet', include_top=False, input_shape=(100, 100, 3))\n",
        "\n",
        "\n",
        "# Add custom classification layers\n",
        "x = base_model.output\n",
        "x = GlobalAveragePooling2D()(x)\n",
        "x = Dense(128, activation='relu')(x)\n",
        "output_layer = Dense(1, activation='sigmoid')(x)\n",
        "# output_layer = tf.keras.layers.Dense(n_classes, activation=\"softmax\")(avg)\n",
        "\n",
        "# Create the new model\n",
        "model = Model(inputs = base_model.input, outputs = output_layer)\n"
      ],
      "metadata": {
        "colab": {
          "base_uri": "https://localhost:8080/"
        },
        "id": "bkTOpEs0k8Cs",
        "outputId": "ddecd974-2b00-4571-be03-d6facabb2363"
      },
      "execution_count": 4,
      "outputs": [
        {
          "output_type": "stream",
          "name": "stdout",
          "text": [
            "Downloading data from https://storage.googleapis.com/tensorflow/keras-applications/xception/xception_weights_tf_dim_ordering_tf_kernels_notop.h5\n",
            "83683744/83683744 [==============================] - 0s 0us/step\n"
          ]
        }
      ]
    },
    {
      "cell_type": "markdown",
      "source": [
        "# Lets freeze all the layers"
      ],
      "metadata": {
        "id": "0JHEnvZKg3ox"
      }
    },
    {
      "cell_type": "code",
      "source": [
        "for layer in base_model.layers:\n",
        "  layer.trainable = False"
      ],
      "metadata": {
        "id": "-8ajFraVzvZm"
      },
      "execution_count": 5,
      "outputs": []
    },
    {
      "cell_type": "code",
      "source": [
        "# Compile the model\n",
        "\n",
        "# optimizer = tf.keras.optimizers.Adam(learning_rate=0.2)\n",
        "# optimizer = tf.keras.optimizers.SGD(learning_rate=0.2, momentum=0.9)\n",
        "\n",
        "# model.compile(loss=\"sparse_categorical_crossentropy\", optimizer=optimizer, metrics=[\"accuracy\"])\n",
        "model.compile(optimizer='adam', loss='binary_crossentropy', metrics=['accuracy'])\n",
        "\n",
        "# Train the model\n",
        "model.fit(X_train, y_train, epochs=10, batch_size=32, validation_split=0.1)"
      ],
      "metadata": {
        "colab": {
          "base_uri": "https://localhost:8080/"
        },
        "id": "15hUMvUFNvjW",
        "outputId": "454a1e58-203c-47fc-f77b-38edc3555e00"
      },
      "execution_count": 6,
      "outputs": [
        {
          "output_type": "stream",
          "name": "stdout",
          "text": [
            "Epoch 1/10\n",
            "57/57 [==============================] - 54s 901ms/step - loss: 0.3317 - accuracy: 0.8422 - val_loss: 0.2696 - val_accuracy: 0.8700\n",
            "Epoch 2/10\n",
            "57/57 [==============================] - 56s 979ms/step - loss: 0.1794 - accuracy: 0.9317 - val_loss: 0.2697 - val_accuracy: 0.8650\n",
            "Epoch 3/10\n",
            "57/57 [==============================] - 51s 895ms/step - loss: 0.1514 - accuracy: 0.9417 - val_loss: 0.1573 - val_accuracy: 0.9350\n",
            "Epoch 4/10\n",
            "57/57 [==============================] - 52s 921ms/step - loss: 0.1085 - accuracy: 0.9606 - val_loss: 0.3672 - val_accuracy: 0.8550\n",
            "Epoch 5/10\n",
            "57/57 [==============================] - 51s 895ms/step - loss: 0.0672 - accuracy: 0.9828 - val_loss: 0.3232 - val_accuracy: 0.8700\n",
            "Epoch 6/10\n",
            "57/57 [==============================] - 65s 1s/step - loss: 0.0438 - accuracy: 0.9917 - val_loss: 0.3483 - val_accuracy: 0.8550\n",
            "Epoch 7/10\n",
            "57/57 [==============================] - 60s 1s/step - loss: 0.0302 - accuracy: 0.9961 - val_loss: 0.2786 - val_accuracy: 0.9100\n",
            "Epoch 8/10\n",
            "57/57 [==============================] - 52s 909ms/step - loss: 0.0220 - accuracy: 0.9989 - val_loss: 0.2936 - val_accuracy: 0.9050\n",
            "Epoch 9/10\n",
            "57/57 [==============================] - 54s 948ms/step - loss: 0.0124 - accuracy: 1.0000 - val_loss: 0.3959 - val_accuracy: 0.8700\n",
            "Epoch 10/10\n",
            "57/57 [==============================] - 52s 912ms/step - loss: 0.0080 - accuracy: 1.0000 - val_loss: 0.3543 - val_accuracy: 0.8950\n"
          ]
        },
        {
          "output_type": "execute_result",
          "data": {
            "text/plain": [
              "<keras.callbacks.History at 0x7b7df5b41cf0>"
            ]
          },
          "metadata": {},
          "execution_count": 6
        }
      ]
    },
    {
      "cell_type": "code",
      "source": [
        "# Making predictions using our model\n",
        "\n",
        "import numpy as np\n",
        "\n",
        "y_pred = model.predict(X_test)\n",
        "y_pred_classes = np.where(y_pred >= 0.5, 1, 0)"
      ],
      "metadata": {
        "colab": {
          "base_uri": "https://localhost:8080/"
        },
        "id": "k47NqI5mKL7s",
        "outputId": "795045bb-611d-4fc7-9b34-3c801d2dfa2e"
      },
      "execution_count": 7,
      "outputs": [
        {
          "output_type": "stream",
          "name": "stdout",
          "text": [
            "13/13 [==============================] - 11s 769ms/step\n"
          ]
        }
      ]
    },
    {
      "cell_type": "code",
      "source": [
        "#Evaluate the model\n",
        "\n",
        "from sklearn.metrics import accuracy_score, confusion_matrix, classification_report\n",
        "\n",
        "# For accuracy measurement\n",
        "accuracy = accuracy_score(y_test, y_pred_classes)\n",
        "print(\"Accuracy:\", accuracy)\n",
        "\n",
        "# For confusion matrix\n",
        "confusion_matrix = confusion_matrix(y_test, y_pred_classes)\n",
        "print(\"Confusion Matrix:\")\n",
        "print(confusion_matrix)\n",
        "\n",
        "# For classification report\n",
        "classification_report = classification_report(y_test, y_pred_classes)\n",
        "print(\"Classification Report:\")\n",
        "print(classification_report)"
      ],
      "metadata": {
        "colab": {
          "base_uri": "https://localhost:8080/"
        },
        "id": "GeI5ilVVKLuo",
        "outputId": "df6a58ed-c09c-4863-c9cd-a3052b0a4ef4"
      },
      "execution_count": 8,
      "outputs": [
        {
          "output_type": "stream",
          "name": "stdout",
          "text": [
            "Accuracy: 0.895\n",
            "Confusion Matrix:\n",
            "[[182  18]\n",
            " [ 24 176]]\n",
            "Classification Report:\n",
            "              precision    recall  f1-score   support\n",
            "\n",
            "         0.0       0.88      0.91      0.90       200\n",
            "         1.0       0.91      0.88      0.89       200\n",
            "\n",
            "    accuracy                           0.90       400\n",
            "   macro avg       0.90      0.90      0.89       400\n",
            "weighted avg       0.90      0.90      0.89       400\n",
            "\n"
          ]
        }
      ]
    },
    {
      "cell_type": "markdown",
      "source": [
        "#Lets make all the layers of the base model trainable."
      ],
      "metadata": {
        "id": "DDwuakO4RPuB"
      }
    },
    {
      "cell_type": "code",
      "source": [],
      "metadata": {
        "id": "xHGviCIlz3Lt"
      },
      "execution_count": null,
      "outputs": []
    },
    {
      "cell_type": "code",
      "source": [
        "# import tensorflow as tf\n",
        "# base_model = tf.keras.applications.xception.Xception(weights=\"imagenet\", include_top=False, input_shape=(100,100,3))\n",
        "\n",
        "from tensorflow.keras.applications import ResNet50\n",
        "base_model = ResNet50(weights='imagenet', include_top=False, input_shape=(100,100,3))\n",
        "\n",
        "# from tensorflow.keras.applications import VGG16\n",
        "# base_model = VGG16(weights='imagenet', include_top=False, input_shape=(100, 100, 3))\n",
        "\n",
        "# from tensorflow.keras.applications import DenseNet121\n",
        "# base_model = DenseNet121(weights='imagenet', include_top=False, input_shape=(100, 100, 3))\n",
        "\n",
        "# from tensorflow.keras.applications import InceptionV3\n",
        "# base_model = InceptionV3(weights='imagenet', include_top=False, input_shape=(100, 100, 3))\n",
        "\n",
        "# from tensorflow.keras.applications import MobileNetV2\n",
        "# base_model = MobileNetV2(weights='imagenet', include_top=False, input_shape=(100, 100, 3))\n",
        "\n",
        "# from tensorflow.keras.applications import EfficientNetB0\n",
        "# base_model = EfficientNetB0(weights='imagenet', include_top=False, input_shape=(100, 100, 3))\n",
        "\n",
        "\n",
        "# Add custom classification layers\n",
        "x = base_model.output\n",
        "x = GlobalAveragePooling2D()(x)\n",
        "x = Dense(128, activation='relu')(x)\n",
        "output_layer = Dense(1, activation='sigmoid')(x)\n",
        "# output_layer = tf.keras.layers.Dense(n_classes, activation=\"softmax\")(avg)\n",
        "\n",
        "# Create the new model\n",
        "model_2 = Model(inputs = base_model.input, outputs = output_layer)\n"
      ],
      "metadata": {
        "colab": {
          "base_uri": "https://localhost:8080/"
        },
        "id": "N3Wk60mSz6og",
        "outputId": "c4dad667-7a97-4ba9-a2f6-0809db1ed636"
      },
      "execution_count": 4,
      "outputs": [
        {
          "output_type": "stream",
          "name": "stdout",
          "text": [
            "Downloading data from https://storage.googleapis.com/tensorflow/keras-applications/resnet/resnet50_weights_tf_dim_ordering_tf_kernels_notop.h5\n",
            "94765736/94765736 [==============================] - 3s 0us/step\n"
          ]
        }
      ]
    },
    {
      "cell_type": "code",
      "source": [
        "for layer in base_model.layers:\n",
        "  layer.trainable = True"
      ],
      "metadata": {
        "id": "U_hVVMLxk_QH"
      },
      "execution_count": 5,
      "outputs": []
    },
    {
      "cell_type": "code",
      "source": [
        "# Compile the model\n",
        "optimizer = tf.keras.optimizers.SGD(learning_rate=0.02, momentum=0.9)\n",
        "model_2.compile(loss=\"binary_crossentropy\", optimizer=optimizer, metrics=[\"accuracy\"])\n",
        "\n",
        "# Train the model\n",
        "model_2.fit(X_train, y_train, epochs=10, batch_size=16, validation_split=0.1)"
      ],
      "metadata": {
        "colab": {
          "base_uri": "https://localhost:8080/"
        },
        "id": "LbC4X1ifQg-n",
        "outputId": "aab44535-e203-4009-f4f6-1af9692d89a3"
      },
      "execution_count": 6,
      "outputs": [
        {
          "output_type": "stream",
          "name": "stdout",
          "text": [
            "Epoch 1/10\n",
            "113/113 [==============================] - 39s 86ms/step - loss: 0.6630 - accuracy: 0.6378 - val_loss: 0.4685 - val_accuracy: 1.0000\n",
            "Epoch 2/10\n",
            "113/113 [==============================] - 8s 73ms/step - loss: 0.5697 - accuracy: 0.7083 - val_loss: 0.3882 - val_accuracy: 1.0000\n",
            "Epoch 3/10\n",
            "113/113 [==============================] - 7s 63ms/step - loss: 0.4935 - accuracy: 0.7522 - val_loss: 0.3974 - val_accuracy: 1.0000\n",
            "Epoch 4/10\n",
            "113/113 [==============================] - 7s 65ms/step - loss: 0.4209 - accuracy: 0.8111 - val_loss: 0.4135 - val_accuracy: 1.0000\n",
            "Epoch 5/10\n",
            "113/113 [==============================] - 7s 64ms/step - loss: 0.3938 - accuracy: 0.8300 - val_loss: 0.3966 - val_accuracy: 1.0000\n",
            "Epoch 6/10\n",
            "113/113 [==============================] - 7s 66ms/step - loss: 0.3845 - accuracy: 0.8394 - val_loss: 0.3748 - val_accuracy: 0.9950\n",
            "Epoch 7/10\n",
            "113/113 [==============================] - 7s 63ms/step - loss: 0.2519 - accuracy: 0.9050 - val_loss: 0.1515 - val_accuracy: 1.0000\n",
            "Epoch 8/10\n",
            "113/113 [==============================] - 7s 66ms/step - loss: 0.1884 - accuracy: 0.9350 - val_loss: 0.2115 - val_accuracy: 0.9500\n",
            "Epoch 9/10\n",
            "113/113 [==============================] - 7s 64ms/step - loss: 0.1837 - accuracy: 0.9311 - val_loss: 0.0175 - val_accuracy: 0.9950\n",
            "Epoch 10/10\n",
            "113/113 [==============================] - 8s 67ms/step - loss: 0.1123 - accuracy: 0.9567 - val_loss: 0.3145 - val_accuracy: 0.8950\n"
          ]
        },
        {
          "output_type": "execute_result",
          "data": {
            "text/plain": [
              "<keras.callbacks.History at 0x7fcc9e1553c0>"
            ]
          },
          "metadata": {},
          "execution_count": 6
        }
      ]
    },
    {
      "cell_type": "code",
      "source": [
        "# Make predictions using our model\n",
        "import numpy as np\n",
        "\n",
        "y_pred = model_2.predict(X_test)\n",
        "y_pred_classes = np.where(y_pred >= 0.5, 1, 0)"
      ],
      "metadata": {
        "colab": {
          "base_uri": "https://localhost:8080/"
        },
        "id": "1xUazOQZFaYC",
        "outputId": "6b24dceb-902a-4b65-bb66-84b2e83c8249"
      },
      "execution_count": 7,
      "outputs": [
        {
          "output_type": "stream",
          "name": "stdout",
          "text": [
            "13/13 [==============================] - 2s 25ms/step\n"
          ]
        }
      ]
    },
    {
      "cell_type": "code",
      "source": [
        "#Evaluating the model\n",
        "\n",
        "from sklearn.metrics import accuracy_score, confusion_matrix, classification_report\n",
        "\n",
        "# For accuracy measurement\n",
        "accuracy = accuracy_score(y_test, y_pred_classes)\n",
        "print(\"Accuracy:\", accuracy)\n",
        "\n",
        "# For confusion matrix\n",
        "confusion_matrix = confusion_matrix(y_test, y_pred_classes)\n",
        "print(\"Confusion Matrix:\")\n",
        "print(confusion_matrix)\n",
        "\n",
        "# For classification report\n",
        "classification_report = classification_report(y_test, y_pred_classes)\n",
        "print(\"Classification Report:\")\n",
        "print(classification_report)"
      ],
      "metadata": {
        "colab": {
          "base_uri": "https://localhost:8080/"
        },
        "id": "d8N199iPFIVX",
        "outputId": "0f0a6e56-d15a-4235-b928-31ee5ee0f8cb"
      },
      "execution_count": 8,
      "outputs": [
        {
          "output_type": "stream",
          "name": "stdout",
          "text": [
            "Accuracy: 0.8325\n",
            "Confusion Matrix:\n",
            "[[158  42]\n",
            " [ 25 175]]\n",
            "Classification Report:\n",
            "              precision    recall  f1-score   support\n",
            "\n",
            "         0.0       0.86      0.79      0.83       200\n",
            "         1.0       0.81      0.88      0.84       200\n",
            "\n",
            "    accuracy                           0.83       400\n",
            "   macro avg       0.83      0.83      0.83       400\n",
            "weighted avg       0.83      0.83      0.83       400\n",
            "\n"
          ]
        }
      ]
    },
    {
      "cell_type": "markdown",
      "source": [
        "#Lets make roughly the last 10% the layers of the base model trainable."
      ],
      "metadata": {
        "id": "4OyNDUT9TblZ"
      }
    },
    {
      "cell_type": "code",
      "source": [],
      "metadata": {
        "id": "3wTDnX4Oz_8c"
      },
      "execution_count": null,
      "outputs": []
    },
    {
      "cell_type": "code",
      "source": [
        "# import tensorflow as tf\n",
        "# base_model = tf.keras.applications.xception.Xception(weights=\"imagenet\", include_top=False, input_shape=(100,100,3))\n",
        "\n",
        "from tensorflow.keras.applications import ResNet50\n",
        "base_model = ResNet50(weights='imagenet', include_top=False, input_shape=(100,100,3))\n",
        "\n",
        "# from tensorflow.keras.applications import VGG16\n",
        "# base_model = VGG16(weights='imagenet', include_top=False, input_shape=(100, 100, 3))\n",
        "\n",
        "# from tensorflow.keras.applications import DenseNet121\n",
        "# base_model = DenseNet121(weights='imagenet', include_top=False, input_shape=(100, 100, 3))\n",
        "\n",
        "# from tensorflow.keras.applications import InceptionV3\n",
        "# base_model = InceptionV3(weights='imagenet', include_top=False, input_shape=(100, 100, 3))\n",
        "\n",
        "# from tensorflow.keras.applications import MobileNetV2\n",
        "# base_model = MobileNetV2(weights='imagenet', include_top=False, input_shape=(100, 100, 3))\n",
        "\n",
        "# from tensorflow.keras.applications import EfficientNetB0\n",
        "# base_model = EfficientNetB0(weights='imagenet', include_top=False, input_shape=(100, 100, 3))\n",
        "\n",
        "\n",
        "# Add custom classification layers\n",
        "x = base_model.output\n",
        "x = GlobalAveragePooling2D()(x)\n",
        "x = Dense(128, activation='relu')(x)\n",
        "output_layer = Dense(1, activation='sigmoid')(x)\n",
        "# output_layer = tf.keras.layers.Dense(n_classes, activation=\"softmax\")(avg)\n",
        "\n",
        "# Create the new model\n",
        "model_3 = Model(inputs = base_model.input, outputs = output_layer)\n"
      ],
      "metadata": {
        "id": "4R2aIv960APs"
      },
      "execution_count": 16,
      "outputs": []
    },
    {
      "cell_type": "code",
      "source": [
        "# Divide the layers into two groups\n",
        "num_layers = len(base_model.layers)\n",
        "split_index = round(num_layers // 1.1)\n",
        "for layer in base_model.layers[:split_index]:\n",
        "    layer.trainable = False\n",
        "for layer in base_model.layers[split_index:]:\n",
        "    layer.trainable = True\n"
      ],
      "metadata": {
        "id": "M_SM96_iSKFw"
      },
      "execution_count": 21,
      "outputs": []
    },
    {
      "cell_type": "code",
      "source": [
        "# Compile the model\n",
        "optimizer = tf.keras.optimizers.SGD(learning_rate=0.02, momentum=0.9)\n",
        "model_3.compile(loss=\"binary_crossentropy\", optimizer=optimizer, metrics=[\"accuracy\"])\n",
        "\n",
        "# Train the model\n",
        "model_3.fit(X_train, y_train, epochs=10, batch_size=16, validation_split=0.1)"
      ],
      "metadata": {
        "colab": {
          "base_uri": "https://localhost:8080/"
        },
        "id": "Tt5Y-iYSSO_f",
        "outputId": "c5a848c8-7364-40c8-822b-44ac8d77c5a3"
      },
      "execution_count": 22,
      "outputs": [
        {
          "output_type": "stream",
          "name": "stdout",
          "text": [
            "Epoch 1/10\n",
            "113/113 [==============================] - 9s 36ms/step - loss: 0.5217 - accuracy: 0.7422 - val_loss: 0.7044 - val_accuracy: 0.7300\n",
            "Epoch 2/10\n",
            "113/113 [==============================] - 3s 27ms/step - loss: 0.5045 - accuracy: 0.7606 - val_loss: 0.4140 - val_accuracy: 0.7450\n",
            "Epoch 3/10\n",
            "113/113 [==============================] - 3s 30ms/step - loss: 0.5071 - accuracy: 0.7600 - val_loss: 0.2788 - val_accuracy: 0.8800\n",
            "Epoch 4/10\n",
            "113/113 [==============================] - 3s 31ms/step - loss: 0.4859 - accuracy: 0.7744 - val_loss: 0.2895 - val_accuracy: 0.9050\n",
            "Epoch 5/10\n",
            "113/113 [==============================] - 3s 27ms/step - loss: 0.5008 - accuracy: 0.7606 - val_loss: 0.2877 - val_accuracy: 0.8200\n",
            "Epoch 6/10\n",
            "113/113 [==============================] - 3s 26ms/step - loss: 0.4814 - accuracy: 0.7672 - val_loss: 0.2342 - val_accuracy: 0.8750\n",
            "Epoch 7/10\n",
            "113/113 [==============================] - 3s 27ms/step - loss: 0.4946 - accuracy: 0.7667 - val_loss: 0.8582 - val_accuracy: 0.5950\n",
            "Epoch 8/10\n",
            "113/113 [==============================] - 3s 30ms/step - loss: 0.4800 - accuracy: 0.7700 - val_loss: 0.5542 - val_accuracy: 0.6150\n",
            "Epoch 9/10\n",
            "113/113 [==============================] - 3s 29ms/step - loss: 0.4760 - accuracy: 0.7811 - val_loss: 0.7820 - val_accuracy: 0.5100\n",
            "Epoch 10/10\n",
            "113/113 [==============================] - 3s 27ms/step - loss: 0.4729 - accuracy: 0.7822 - val_loss: 0.4569 - val_accuracy: 0.7550\n"
          ]
        },
        {
          "output_type": "execute_result",
          "data": {
            "text/plain": [
              "<keras.callbacks.History at 0x7fcbb4dcf5b0>"
            ]
          },
          "metadata": {},
          "execution_count": 22
        }
      ]
    },
    {
      "cell_type": "code",
      "source": [
        "# Make predictions using our model\n",
        "import numpy as np\n",
        "\n",
        "y_pred = model_3.predict(X_test)\n",
        "y_pred_classes = np.where(y_pred >= 0.5, 1, 0)"
      ],
      "metadata": {
        "colab": {
          "base_uri": "https://localhost:8080/"
        },
        "id": "KZL0_G9NSQzE",
        "outputId": "972e6d32-475b-4ad9-fd0b-21239199a3fe"
      },
      "execution_count": 23,
      "outputs": [
        {
          "output_type": "stream",
          "name": "stdout",
          "text": [
            "13/13 [==============================] - 2s 34ms/step\n"
          ]
        }
      ]
    },
    {
      "cell_type": "code",
      "source": [
        "# Evaluating the model\n",
        "\n",
        "from sklearn.metrics import accuracy_score, confusion_matrix, classification_report\n",
        "\n",
        "# For accuracy measurement\n",
        "accuracy = accuracy_score(y_test, y_pred_classes)\n",
        "print(\"Accuracy:\", accuracy)\n",
        "\n",
        "# For confusion matrix\n",
        "confusion_matrix = confusion_matrix(y_test, y_pred_classes)\n",
        "print(\"Confusion Matrix:\")\n",
        "print(confusion_matrix)\n",
        "\n",
        "# For classification report\n",
        "classification_report = classification_report(y_test, y_pred_classes)\n",
        "print(\"Classification Report:\")\n",
        "print(classification_report)"
      ],
      "metadata": {
        "colab": {
          "base_uri": "https://localhost:8080/"
        },
        "id": "Ww8P0BkNSStC",
        "outputId": "fd1ab847-be93-4d1d-c7a1-544ea3d36804"
      },
      "execution_count": 24,
      "outputs": [
        {
          "output_type": "stream",
          "name": "stdout",
          "text": [
            "Accuracy: 0.715\n",
            "Confusion Matrix:\n",
            "[[152  48]\n",
            " [ 66 134]]\n",
            "Classification Report:\n",
            "              precision    recall  f1-score   support\n",
            "\n",
            "         0.0       0.70      0.76      0.73       200\n",
            "         1.0       0.74      0.67      0.70       200\n",
            "\n",
            "    accuracy                           0.71       400\n",
            "   macro avg       0.72      0.72      0.71       400\n",
            "weighted avg       0.72      0.71      0.71       400\n",
            "\n"
          ]
        }
      ]
    },
    {
      "cell_type": "code",
      "source": [],
      "metadata": {
        "id": "RNXDQKgVS-q-"
      },
      "execution_count": null,
      "outputs": []
    }
  ]
}